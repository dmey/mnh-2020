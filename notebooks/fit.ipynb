{
 "cells": [
  {
   "cell_type": "code",
   "execution_count": null,
   "metadata": {},
   "outputs": [],
   "source": [
    "%load_ext autoreload\n",
    "%autoreload 2\n",
    "\n",
    "import os\n",
    "from pathlib import Path\n",
    "import pickle\n",
    "\n",
    "import xarray as xr\n",
    "\n",
    "import synthia as syn\n",
    "import pyvinecopulib as pv\n",
    "\n",
    "import sys\n",
    "sys.path.append('../src')\n",
    "\n",
    "from util import load_ds_inputs\n",
    "from util import compute_layer_longwave_downwelling\n",
    "from util import train_test_split_dataset\n",
    "from util import to_normalized_dataset, to_unnormalized_dataset"
   ]
  },
  {
   "cell_type": "code",
   "execution_count": null,
   "metadata": {},
   "outputs": [],
   "source": [
    "copula_type = str(os.environ.get('copula_type', 'gaussian'))\n",
    "has_targets = int(os.environ.get('has_targets', 0))\n",
    "is_normalised = int(os.environ.get('is_normalised', 1))\n",
    "data_fraction = float(os.environ.get('data_fraction', 1))\n",
    "\n",
    "num_threads = int(os.environ.get('num_threads', 2))\n",
    "\n",
    "verbose=0\n",
    "\n",
    "print(copula_type, has_targets, is_normalised, data_fraction, num_threads)"
   ]
  },
  {
   "cell_type": "code",
   "execution_count": null,
   "metadata": {},
   "outputs": [],
   "source": [
    "PROJ_PATH = Path.cwd().parent\n",
    "ds_true_in = load_ds_inputs(PROJ_PATH)"
   ]
  },
  {
   "cell_type": "code",
   "execution_count": null,
   "metadata": {},
   "outputs": [],
   "source": [
    "if is_normalised:\n",
    "    ds_true, _ = to_normalized_dataset(ds_true_in)\n",
    "else:\n",
    "    ds_true = ds_true_in\n",
    "\n",
    "if has_targets:\n",
    "    column_gas_optical_depth = 1.7\n",
    "    flux_dn_hl_train = compute_layer_longwave_downwelling(ds_true_in, column_gas_optical_depth)\n",
    "    ds_true = xr.merge([ds_true, flux_dn_hl_train])\n",
    "\n",
    "ds_train, ds_test = train_test_split_dataset(ds_true, test_size=0.6, dim='column', shuffle=True, seed=42)\n",
    "ds_test, ds_validation = train_test_split_dataset(ds_test, test_size=0.33334, dim='column', shuffle=True, seed=42)\n",
    "ds_train, _ = train_test_split_dataset(ds_train, train_size=data_fraction, dim='column', shuffle=False)\n",
    "\n",
    "display(ds_train)"
   ]
  },
  {
   "cell_type": "code",
   "execution_count": null,
   "metadata": {},
   "outputs": [],
   "source": [
    "if copula_type == 'gaussian':\n",
    "    pyvinecopulib_ctrl = None\n",
    "elif copula_type == 'tll':\n",
    "    pyvinecopulib_ctrl = pv.FitControlsVinecop(family_set=[pv.tll], trunc_lvl=50, num_threads=num_threads)\n",
    "elif copula_type == 'parametric':\n",
    "    pyvinecopulib_ctrl = pv.FitControlsVinecop(family_set=pv.parametric, trunc_lvl=50, num_threads=num_threads)\n",
    "else:\n",
    "    raise RuntimeError('Copula option not supported')\n",
    "\n",
    "generator = syn.CopulaDataGenerator(verbose=verbose)\n",
    "parameterizer = None\n",
    "if pyvinecopulib_ctrl:\n",
    "    generator.fit(ds_train, copula=syn.VineCopula(controls=pyvinecopulib_ctrl), parameterize_by=parameterizer)\n",
    "else:\n",
    "    generator.fit(ds_train, copula=syn.GaussianCopula(), parameterize_by=parameterizer)"
   ]
  },
  {
   "cell_type": "code",
   "execution_count": null,
   "metadata": {},
   "outputs": [],
   "source": [
    "fname = f\"copula_type={copula_type}-has_targets={has_targets}-is_normalised={is_normalised}-data_fraction={data_fraction}.pkl\"\n",
    "outdir = PROJ_PATH / 'results' / 'fitting'\n",
    "outdir.mkdir(parents=True, exist_ok=True)\n",
    "\n",
    "pickle.dump(generator, open(outdir / fname, 'wb'))"
   ]
  },
  {
   "cell_type": "code",
   "execution_count": null,
   "metadata": {},
   "outputs": [],
   "source": []
  }
 ],
 "metadata": {
  "kernelspec": {
   "display_name": "Python 3",
   "language": "python",
   "name": "python3"
  },
  "language_info": {
   "codemirror_mode": {
    "name": "ipython",
    "version": 3
   },
   "file_extension": ".py",
   "mimetype": "text/x-python",
   "name": "python",
   "nbconvert_exporter": "python",
   "pygments_lexer": "ipython3",
   "version": "3.8.5"
  }
 },
 "nbformat": 4,
 "nbformat_minor": 4
}
