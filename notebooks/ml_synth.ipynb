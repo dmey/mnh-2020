{
 "cells": [
  {
   "cell_type": "code",
   "execution_count": null,
   "metadata": {},
   "outputs": [],
   "source": [
    "%load_ext autoreload\n",
    "%autoreload 2\n",
    "\n",
    "import os\n",
    "\n",
    "idx_iter_synthetic = int(os.environ.get('idx_iter_synthetic', 0))\n",
    "\n",
    "# Seed value\n",
    "seed_value = idx_iter_synthetic\n",
    "\n",
    "# 2. Set `python` built-in pseudo-random generator at a fixed value\n",
    "import random\n",
    "random.seed(seed_value)\n",
    "\n",
    "# 3. Set `numpy` pseudo-random generator at a fixed value\n",
    "import numpy as np\n",
    "np.random.seed(seed_value)\n",
    "\n",
    "# 4. Set the `tensorflow` pseudo-random generator at a fixed value\n",
    "import tensorflow as tf\n",
    "tf.compat.v1.set_random_seed(seed_value)\n",
    "\n",
    "from pathlib import Path\n",
    "import numpy as np\n",
    "from scipy.constants import Stefan_Boltzmann\n",
    "import xarray as xr\n",
    "import pickle\n",
    "\n",
    "import matplotlib.pyplot as plt\n",
    "\n",
    "import synthia as syn\n",
    "\n",
    "import sys\n",
    "sys.path.append('../src')\n",
    "\n",
    "from util import load_ds_inputs\n",
    "from util import to_stacked_array, to_unstacked_dataset\n",
    "\n",
    "import pyvinecopulib as pv"
   ]
  },
  {
   "cell_type": "markdown",
   "metadata": {},
   "source": [
    "## Parameters"
   ]
  },
  {
   "cell_type": "code",
   "execution_count": null,
   "metadata": {},
   "outputs": [],
   "source": [
    "epochs = 1000\n",
    "n_iter_ml = 10\n",
    "n_iter_synthetic = 1 # Note: this is constant as we idx_iter_synthetic to iterate through the 10 copulas \n",
    "verbose = 0\n",
    "\n",
    "tmpdir = str(os.environ.get('TMPDIR', '.'))\n",
    "data_fraction = float(os.environ.get('data_fraction', 1))\n",
    "factor_synthetic = int(os.environ.get('factor_synthetic', 10))\n",
    "num_threads = int(os.environ.get('num_threads', 4))\n",
    "os.environ['num_threads'] = str(num_threads)\n",
    "has_targets = int(os.environ.get('has_targets', 0))\n",
    "\n",
    "copula_type = str(os.environ.get('copula_type', 'gaussian'))\n",
    "if copula_type == 'gaussian':\n",
    "    pyvinecopulib_ctrl = None\n",
    "elif copula_type == 'tll':\n",
    "    pyvinecopulib_ctrl = pv.FitControlsVinecop(family_set=[pv.tll], trunc_lvl=50, num_threads=num_threads)\n",
    "elif copula_type == 'parametric':\n",
    "    pyvinecopulib_ctrl = pv.FitControlsVinecop(family_set=pv.parametric, trunc_lvl=50, num_threads=num_threads)\n",
    "else:\n",
    "    raise RuntimeError('Copula option not supported')\n",
    "\n",
    "print(data_fraction, factor_synthetic, idx_iter_synthetic, \n",
    "      has_targets, num_threads, copula_type, pyvinecopulib_ctrl, tmpdir)"
   ]
  },
  {
   "cell_type": "code",
   "execution_count": null,
   "metadata": {},
   "outputs": [],
   "source": [
    "fname = f\"ml-synth-copula_type={copula_type}-has_targets={has_targets}-data_fraction={data_fraction}-factor_synthetic={factor_synthetic}-idx_iter_synthetic={idx_iter_synthetic}.pkl\"\n",
    "outdir = Path.cwd().parent / 'results' / 'ml'\n",
    "outdir.mkdir(parents=True, exist_ok=True)\n",
    "fpath = outdir / fname\n",
    "\n",
    "if fpath.exists():\n",
    "    raise RuntimeError('This case is already present. Skipping...')"
   ]
  },
  {
   "cell_type": "markdown",
   "metadata": {},
   "source": [
    "## Load inputs"
   ]
  },
  {
   "cell_type": "code",
   "execution_count": null,
   "metadata": {},
   "outputs": [],
   "source": [
    "PROJ_PATH = Path.cwd().parent\n",
    "ds_true_in = load_ds_inputs(PROJ_PATH)\n",
    "ds_true_in"
   ]
  },
  {
   "cell_type": "markdown",
   "metadata": {},
   "source": [
    "## Normalize data"
   ]
  },
  {
   "cell_type": "code",
   "execution_count": null,
   "metadata": {},
   "outputs": [],
   "source": [
    "from util import to_normalized_dataset\n",
    "ds_normalized, stats_info = to_normalized_dataset(ds_true_in)"
   ]
  },
  {
   "cell_type": "code",
   "execution_count": null,
   "metadata": {},
   "outputs": [],
   "source": [
    "from util import to_unnormalized_dataset\n",
    "ds_unnormalized = to_unnormalized_dataset(ds_normalized, stats_info)"
   ]
  },
  {
   "cell_type": "code",
   "execution_count": null,
   "metadata": {},
   "outputs": [],
   "source": [
    "from util import plot_random_columns\n",
    "plot_random_columns(ds_true_in, ds_unnormalized, 100)"
   ]
  },
  {
   "cell_type": "markdown",
   "metadata": {},
   "source": [
    "## Split data"
   ]
  },
  {
   "cell_type": "code",
   "execution_count": null,
   "metadata": {},
   "outputs": [],
   "source": [
    "from util import train_test_split_dataset"
   ]
  },
  {
   "cell_type": "code",
   "execution_count": null,
   "metadata": {},
   "outputs": [],
   "source": [
    "ds_train, ds_test = train_test_split_dataset(ds_normalized, test_size=0.6, dim='column', shuffle=True, seed=42)\n",
    "ds_test, ds_validation = train_test_split_dataset(ds_test, test_size=0.33334, dim='column', shuffle=True, seed=42)\n",
    "ds_train, _ = train_test_split_dataset(ds_train, train_size=data_fraction, dim='column', shuffle=False)"
   ]
  },
  {
   "cell_type": "code",
   "execution_count": null,
   "metadata": {},
   "outputs": [],
   "source": [
    "display(ds_train, ds_test, ds_validation)"
   ]
  },
  {
   "cell_type": "markdown",
   "metadata": {},
   "source": [
    "## Pysical model"
   ]
  },
  {
   "cell_type": "code",
   "execution_count": null,
   "metadata": {},
   "outputs": [],
   "source": [
    "from util import compute_layer_longwave_downwelling\n",
    "\n",
    "column_gas_optical_depth = 1.7 # We try with 30, range is 0.5 to many thousands.\n",
    "flux_dn_hl_train = compute_layer_longwave_downwelling(to_unnormalized_dataset(ds_train, stats_info), column_gas_optical_depth)\n",
    "flux_dn_hl_test = compute_layer_longwave_downwelling(to_unnormalized_dataset(ds_test, stats_info), column_gas_optical_depth)\n",
    "flux_dn_hl_validation = compute_layer_longwave_downwelling(to_unnormalized_dataset(ds_validation, stats_info), column_gas_optical_depth)\n",
    "\n",
    "ds_train_X_y = xr.merge([ds_train, flux_dn_hl_train])\n",
    "ds_test_X_y = xr.merge([ds_test, flux_dn_hl_test])\n",
    "ds_validation_X_y = xr.merge([ds_validation, flux_dn_hl_validation])\n",
    "\n",
    "display(ds_train_X_y, ds_test_X_y, ds_validation_X_y)"
   ]
  },
  {
   "cell_type": "code",
   "execution_count": null,
   "metadata": {},
   "outputs": [],
   "source": [
    "plot_random_columns(ds_train_X_y[['flux_dn_lw']], ds_train_X_y[['flux_dn_lw']])"
   ]
  },
  {
   "cell_type": "markdown",
   "metadata": {},
   "source": [
    "## Copula"
   ]
  },
  {
   "cell_type": "code",
   "execution_count": null,
   "metadata": {},
   "outputs": [],
   "source": [
    "from util import compute_lw_dn_synth_mlp\n",
    "\n",
    "X_vars = list(ds_true_in)\n",
    "y_var = ['flux_dn_lw']\n",
    "\n",
    "df_stats, y_best = compute_lw_dn_synth_mlp(ds_train, ds_train_X_y, ds_validation_X_y, ds_test_X_y, X_vars, y_var, stats_info, # Data\n",
    "        factor_synthetic=factor_synthetic, n_quantiles=100, # Copula\n",
    "        uniformization_ratio=0, stretch_factor=1, pyvinecopulib_ctrl=pyvinecopulib_ctrl, # Copula\n",
    "        epochs=epochs, # ML\n",
    "        n_iter_synthetic=n_iter_synthetic, n_iter_ml=n_iter_ml, # iteration loop\n",
    "        verbose=verbose, tmpdir=tmpdir,\n",
    "        copula_type=copula_type, has_targets=has_targets, data_fraction=data_fraction,\n",
    "        copula_seed=seed_value)"
   ]
  },
  {
   "cell_type": "code",
   "execution_count": null,
   "metadata": {},
   "outputs": [],
   "source": [
    "plot_random_columns(ds_test_X_y[['flux_dn_lw']], y_best[0][['flux_dn_lw']], 10)"
   ]
  },
  {
   "cell_type": "code",
   "execution_count": null,
   "metadata": {},
   "outputs": [],
   "source": [
    "obj = {\n",
    "    'is_control': False,\n",
    "    'name': copula_type,\n",
    "    'data_fraction': data_fraction,\n",
    "    'factor_synthetic': factor_synthetic,\n",
    "    'stats': df_stats,\n",
    "    'y_best' : y_best\n",
    "}\n",
    "\n",
    "obj"
   ]
  },
  {
   "cell_type": "code",
   "execution_count": null,
   "metadata": {},
   "outputs": [],
   "source": [
    "with open(fpath, 'wb') as f:\n",
    "    pickle.dump(obj, f)"
   ]
  },
  {
   "cell_type": "code",
   "execution_count": null,
   "metadata": {},
   "outputs": [],
   "source": [
    "# Test\n",
    "with open(fpath, 'rb') as f:\n",
    "    obj = pickle.load(f)\n",
    "obj"
   ]
  },
  {
   "cell_type": "code",
   "execution_count": null,
   "metadata": {},
   "outputs": [],
   "source": []
  }
 ],
 "metadata": {
  "kernelspec": {
   "display_name": "Python 3",
   "language": "python",
   "name": "python3"
  },
  "language_info": {
   "codemirror_mode": {
    "name": "ipython",
    "version": 3
   },
   "file_extension": ".py",
   "mimetype": "text/x-python",
   "name": "python",
   "nbconvert_exporter": "python",
   "pygments_lexer": "ipython3",
   "version": "3.8.5"
  }
 },
 "nbformat": 4,
 "nbformat_minor": 4
}
