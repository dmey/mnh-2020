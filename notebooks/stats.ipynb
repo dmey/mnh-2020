{
 "cells": [
  {
   "cell_type": "code",
   "execution_count": null,
   "metadata": {},
   "outputs": [],
   "source": [
    "%load_ext autoreload\n",
    "%autoreload 2\n",
    "\n",
    "import os\n",
    "from pathlib import Path\n",
    "import pickle\n",
    "\n",
    "import numpy as np\n",
    "import xarray as xr\n",
    "\n",
    "import synthia as syn\n",
    "import pyvinecopulib as pv\n",
    "\n",
    "from collections import defaultdict\n",
    "\n",
    "import sys\n",
    "sys.path.append('../src')\n",
    "\n",
    "from util import load_ds_inputs, to_stacked_array, compute_layer_longwave_downwelling"
   ]
  },
  {
   "cell_type": "code",
   "execution_count": null,
   "metadata": {},
   "outputs": [],
   "source": [
    "copula_type = str(os.environ.get('copula_type', 'gaussian'))\n",
    "has_targets = int(os.environ.get('has_targets', 1))\n",
    "idx_iter = int(os.environ.get('idx_iter', 2))\n",
    "\n",
    "num_threads = int(os.environ.get('num_threads', 2))\n",
    "\n",
    "is_normalised = 0\n",
    "data_fraction = 1.0\n",
    "\n",
    "print(copula_type, has_targets, num_threads, idx_iter)"
   ]
  },
  {
   "cell_type": "code",
   "execution_count": null,
   "metadata": {},
   "outputs": [],
   "source": [
    "fname = f\"stats-copula_type={copula_type}-has_targets={has_targets}-idx_iter={idx_iter}.pkl\"\n",
    "outdir = Path.cwd().parent / 'results' / 'stats'\n",
    "outdir.mkdir(parents=True, exist_ok=True)\n",
    "fpath = outdir / fname\n",
    "\n",
    "if fpath.exists():\n",
    "    raise RuntimeError('This case is already present. Skipping...')"
   ]
  },
  {
   "cell_type": "code",
   "execution_count": null,
   "metadata": {},
   "outputs": [],
   "source": [
    "PROJ_PATH = Path.cwd().parent\n",
    "ds_true_in = load_ds_inputs(PROJ_PATH)\n",
    "\n",
    "if has_targets:\n",
    "    column_gas_optical_depth = 1.7\n",
    "    flux_dn_hl_train = compute_layer_longwave_downwelling(ds_true_in, column_gas_optical_depth)\n",
    "    ds_true = xr.merge([ds_true_in, flux_dn_hl_train])\n",
    "else:\n",
    "    ds_true = ds_true_in\n",
    "\n",
    "ds_true, _ = to_stacked_array(ds_true)\n",
    "display(ds_true)"
   ]
  },
  {
   "cell_type": "code",
   "execution_count": null,
   "metadata": {},
   "outputs": [],
   "source": [
    "fname = f\"copula_type={copula_type}-has_targets={has_targets}-is_normalised={is_normalised}-data_fraction={data_fraction}.pkl\"\n",
    "outdir = PROJ_PATH / 'results' / 'fitting'\n",
    "\n",
    "with open(outdir / fname, 'rb') as f:\n",
    "    generator = pickle.load(f)"
   ]
  },
  {
   "cell_type": "code",
   "execution_count": null,
   "metadata": {},
   "outputs": [],
   "source": [
    "kws = dict(seed=idx_iter)\n",
    "if copula_type != 'gaussian':\n",
    "    kws['num_threads'] = num_threads\n",
    "\n",
    "ds_synth = generator.generate(ds_true.shape[0], **kws)\n",
    "ds_synth, _ = to_stacked_array(ds_synth)\n",
    "ds_synth"
   ]
  },
  {
   "cell_type": "code",
   "execution_count": null,
   "metadata": {},
   "outputs": [],
   "source": [
    "np.random.seed(idx_iter)\n",
    "weights = np.random.rand(ds_true.shape[1], 1)\n",
    "\n",
    "proj_true = np.dot(ds_true, weights)\n",
    "proj_synth = np.dot(ds_synth, weights)"
   ]
  },
  {
   "cell_type": "code",
   "execution_count": null,
   "metadata": {},
   "outputs": [],
   "source": [
    "stats = {}\n",
    "stats_types = [{\n",
    "        'name': 'Mean',\n",
    "        'fn': lambda arr: np.mean(arr)\n",
    "    },\n",
    "    {\n",
    "        'name': 'Median',\n",
    "        'fn': lambda arr: np.median(arr)\n",
    "    },\n",
    "    {\n",
    "        'name': 'Variance',\n",
    "        'fn': lambda arr: np.var(arr)\n",
    "    },\n",
    "    {\n",
    "        'name': 'Standard deviation',\n",
    "        'fn': lambda arr: np.std(arr)\n",
    "    }, \n",
    "    {\n",
    "        'name': '0.1-quantile',\n",
    "        'fn': lambda arr: np.quantile(arr, 0.1)\n",
    "    },\n",
    "    {\n",
    "        'name': '0.5-quantile',\n",
    "        'fn': lambda arr: np.quantile(arr, 0.5)\n",
    "    },\n",
    "    {\n",
    "        'name': '0.9-quantile',\n",
    "        'fn': lambda arr: np.quantile(arr, 0.9)\n",
    "    }]\n",
    "\n",
    "for stats_type in stats_types:\n",
    "    proj_true_stat = stats_type['fn'](proj_true)\n",
    "    proj_pred_stat = stats_type['fn'](proj_synth)\n",
    "\n",
    "    stats[stats_type['name']] = {\n",
    "        'true' : proj_true_stat,\n",
    "        'pred' :  proj_pred_stat\n",
    "    }"
   ]
  },
  {
   "cell_type": "code",
   "execution_count": null,
   "metadata": {},
   "outputs": [],
   "source": [
    "pickle.dump(stats, open(fpath, 'wb'))\n",
    "\n",
    "# Test\n",
    "with open(fpath, 'rb') as f:\n",
    "    stats = pickle.load(f)\n",
    "stats"
   ]
  },
  {
   "cell_type": "code",
   "execution_count": null,
   "metadata": {},
   "outputs": [],
   "source": []
  }
 ],
 "metadata": {
  "kernelspec": {
   "display_name": "Python 3",
   "language": "python",
   "name": "python3"
  },
  "language_info": {
   "codemirror_mode": {
    "name": "ipython",
    "version": 3
   },
   "file_extension": ".py",
   "mimetype": "text/x-python",
   "name": "python",
   "nbconvert_exporter": "python",
   "pygments_lexer": "ipython3",
   "version": "3.8.5"
  }
 },
 "nbformat": 4,
 "nbformat_minor": 4
}
