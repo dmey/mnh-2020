{
 "cells": [
  {
   "cell_type": "code",
   "execution_count": null,
   "metadata": {},
   "outputs": [],
   "source": [
    "%load_ext autoreload\n",
    "%autoreload 2\n",
    "\n",
    "import os\n",
    "\n",
    "# Seed value\n",
    "seed_value = 42\n",
    "\n",
    "# 2. Set `python` built-in pseudo-random generator at a fixed value\n",
    "import random\n",
    "random.seed(seed_value)\n",
    "\n",
    "# 3. Set `numpy` pseudo-random generator at a fixed value\n",
    "import numpy as np\n",
    "np.random.seed(seed_value)\n",
    "\n",
    "# 4. Set the `tensorflow` pseudo-random generator at a fixed value\n",
    "import tensorflow as tf\n",
    "tf.compat.v1.set_random_seed(seed_value)\n",
    "\n",
    "from pathlib import Path\n",
    "import numpy as np\n",
    "from scipy.constants import Stefan_Boltzmann\n",
    "import xarray as xr\n",
    "import pickle\n",
    "\n",
    "import matplotlib.pyplot as plt\n",
    "\n",
    "import sys\n",
    "sys.path.append('../src')\n",
    "\n",
    "import synthia as syn\n",
    "\n",
    "from util import load_ds_inputs\n",
    "from util import to_stacked_array, to_unstacked_dataset"
   ]
  },
  {
   "cell_type": "markdown",
   "metadata": {},
   "source": [
    "## Parameters"
   ]
  },
  {
   "cell_type": "code",
   "execution_count": null,
   "metadata": {},
   "outputs": [],
   "source": [
    "epochs = 1000\n",
    "iterations = 10\n",
    "verbose = 0\n",
    "\n",
    "data_fraction = float(os.environ.get('data_fraction', 1))\n",
    "\n",
    "print(data_fraction)"
   ]
  },
  {
   "cell_type": "code",
   "execution_count": null,
   "metadata": {},
   "outputs": [],
   "source": [
    "fname = f\"ml-control-data_fraction={data_fraction}.pkl\"\n",
    "outdir = Path.cwd().parent / 'results' / 'ml'\n",
    "outdir.mkdir(parents=True, exist_ok=True)\n",
    "fpath = outdir / fname\n",
    "\n",
    "if fpath.exists():\n",
    "    raise RuntimeError('This case is already present. Skipping...')"
   ]
  },
  {
   "cell_type": "markdown",
   "metadata": {},
   "source": [
    "## Load inputs"
   ]
  },
  {
   "cell_type": "code",
   "execution_count": null,
   "metadata": {},
   "outputs": [],
   "source": [
    "PROJ_PATH = Path.cwd().parent\n",
    "ds_true_in = load_ds_inputs(PROJ_PATH)\n",
    "ds_true_in"
   ]
  },
  {
   "cell_type": "markdown",
   "metadata": {},
   "source": [
    "## Normalize data"
   ]
  },
  {
   "cell_type": "code",
   "execution_count": null,
   "metadata": {},
   "outputs": [],
   "source": [
    "from util import to_normalized_dataset\n",
    "ds_normalized, stats_info = to_normalized_dataset(ds_true_in)"
   ]
  },
  {
   "cell_type": "code",
   "execution_count": null,
   "metadata": {},
   "outputs": [],
   "source": [
    "from util import to_unnormalized_dataset\n",
    "ds_unnormalized = to_unnormalized_dataset(ds_normalized, stats_info)"
   ]
  },
  {
   "cell_type": "code",
   "execution_count": null,
   "metadata": {},
   "outputs": [],
   "source": [
    "from util import plot_random_columns\n",
    "plot_random_columns(ds_true_in, ds_unnormalized, 100)"
   ]
  },
  {
   "cell_type": "markdown",
   "metadata": {},
   "source": [
    "## Split data"
   ]
  },
  {
   "cell_type": "code",
   "execution_count": null,
   "metadata": {},
   "outputs": [],
   "source": [
    "from util import train_test_split_dataset"
   ]
  },
  {
   "cell_type": "code",
   "execution_count": null,
   "metadata": {},
   "outputs": [],
   "source": [
    "ds_train, ds_test = train_test_split_dataset(ds_normalized, test_size=0.6, dim='column', shuffle=True, seed=42)\n",
    "ds_test, ds_validation = train_test_split_dataset(ds_test, test_size=0.33334, dim='column', shuffle=True, seed=42)\n",
    "ds_train, _ = train_test_split_dataset(ds_train, train_size=data_fraction, dim='column', shuffle=False)"
   ]
  },
  {
   "cell_type": "code",
   "execution_count": null,
   "metadata": {},
   "outputs": [],
   "source": [
    "display(ds_train, ds_test, ds_validation)"
   ]
  },
  {
   "cell_type": "markdown",
   "metadata": {},
   "source": [
    "## Pysical model"
   ]
  },
  {
   "cell_type": "code",
   "execution_count": null,
   "metadata": {},
   "outputs": [],
   "source": [
    "from util import compute_layer_longwave_downwelling\n",
    "\n",
    "column_gas_optical_depth = 1.7 # We try with 30, range is 0.5 to many thousands.\n",
    "flux_dn_hl_train = compute_layer_longwave_downwelling(to_unnormalized_dataset(ds_train, stats_info), column_gas_optical_depth)\n",
    "flux_dn_hl_test = compute_layer_longwave_downwelling(to_unnormalized_dataset(ds_test, stats_info), column_gas_optical_depth)\n",
    "flux_dn_hl_validation = compute_layer_longwave_downwelling(to_unnormalized_dataset(ds_validation, stats_info), column_gas_optical_depth)\n",
    "\n",
    "ds_train_X_y = xr.merge([ds_train, flux_dn_hl_train])\n",
    "ds_test_X_y = xr.merge([ds_test, flux_dn_hl_test])\n",
    "ds_validation_X_y = xr.merge([ds_validation, flux_dn_hl_validation])\n",
    "\n",
    "display(ds_train_X_y, ds_test_X_y, ds_validation_X_y)"
   ]
  },
  {
   "cell_type": "code",
   "execution_count": null,
   "metadata": {},
   "outputs": [],
   "source": [
    "plot_random_columns(ds_train_X_y[['flux_dn_lw']], ds_train_X_y[['flux_dn_lw']])"
   ]
  },
  {
   "cell_type": "markdown",
   "metadata": {},
   "source": [
    "## Machine learning"
   ]
  },
  {
   "cell_type": "markdown",
   "metadata": {},
   "source": [
    "### MLP"
   ]
  },
  {
   "cell_type": "code",
   "execution_count": null,
   "metadata": {},
   "outputs": [],
   "source": [
    "from util import compute_lw_dn_mlp\n",
    "\n",
    "X_vars = list(ds_true_in)\n",
    "y_var = ['flux_dn_lw']\n",
    "\n",
    "df_stats, ds_y_pred_test_best = compute_lw_dn_mlp(ds_train_X_y, ds_validation_X_y, ds_test_X_y, X_vars, y_var,\n",
    "                                epochs, iterations, verbose=verbose)"
   ]
  },
  {
   "cell_type": "code",
   "execution_count": null,
   "metadata": {},
   "outputs": [],
   "source": [
    "df_stats"
   ]
  },
  {
   "cell_type": "code",
   "execution_count": null,
   "metadata": {},
   "outputs": [],
   "source": [
    "plot_random_columns(ds_test_X_y[['flux_dn_lw']], ds_y_pred_test_best[['flux_dn_lw']], 10)"
   ]
  },
  {
   "cell_type": "code",
   "execution_count": null,
   "metadata": {},
   "outputs": [],
   "source": [
    "name = 'control'\n",
    "obj = {\n",
    "    'is_control': True,\n",
    "    'name': name,\n",
    "    'data_fraction': data_fraction,\n",
    "    'stats': df_stats,\n",
    "    'y_best' : ds_y_pred_test_best\n",
    "}\n",
    "\n",
    "obj"
   ]
  },
  {
   "cell_type": "code",
   "execution_count": null,
   "metadata": {},
   "outputs": [],
   "source": [
    "with open(fpath, 'wb') as f:\n",
    "    pickle.dump(obj, f)"
   ]
  },
  {
   "cell_type": "code",
   "execution_count": null,
   "metadata": {},
   "outputs": [],
   "source": [
    "# Test\n",
    "with open(fpath, 'rb') as f:\n",
    "    obj = pickle.load(f)\n",
    "obj"
   ]
  },
  {
   "cell_type": "code",
   "execution_count": null,
   "metadata": {},
   "outputs": [],
   "source": []
  }
 ],
 "metadata": {
  "kernelspec": {
   "display_name": "Python 3",
   "language": "python",
   "name": "python3"
  },
  "language_info": {
   "codemirror_mode": {
    "name": "ipython",
    "version": 3
   },
   "file_extension": ".py",
   "mimetype": "text/x-python",
   "name": "python",
   "nbconvert_exporter": "python",
   "pygments_lexer": "ipython3",
   "version": "3.8.5"
  }
 },
 "nbformat": 4,
 "nbformat_minor": 4
}
